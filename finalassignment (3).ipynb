{
  "metadata": {
    "language_info": {
      "codemirror_mode": {
        "name": "python",
        "version": 3
      },
      "file_extension": ".py",
      "mimetype": "text/x-python",
      "name": "python",
      "nbconvert_exporter": "python",
      "pygments_lexer": "ipython3",
      "version": "3.8"
    },
    "kernelspec": {
      "name": "python",
      "display_name": "Python (Pyodide)",
      "language": "python"
    }
  },
  "nbformat_minor": 4,
  "nbformat": 4,
  "cells": [
    {
      "cell_type": "code",
      "source": "# My Final Assignment ",
      "metadata": {},
      "execution_count": null,
      "outputs": []
    },
    {
      "cell_type": "markdown",
      "source": "# My Final Assignment ",
      "metadata": {}
    },
    {
      "cell_type": "markdown",
      "source": "# My Final Assignment",
      "metadata": {}
    },
    {
      "cell_type": "code",
      "source": "# Introduction to My Notebook\n\n# hello and welcome to my Final Assignment Notebook",
      "metadata": {},
      "execution_count": null,
      "outputs": []
    },
    {
      "cell_type": "markdown",
      "source": "# Introduction to My Notebook\n\n# hello and welcome to my Final Assignment Notebook",
      "metadata": {}
    },
    {
      "cell_type": "markdown",
      "source": "# Introduction to My Notebook\n\n# hello and welcome to my Final Assignment Notebook",
      "metadata": {}
    },
    {
      "cell_type": "code",
      "source": "# List of Data Science Languages \n### Python\n### R\n### SQL\n### Julia ",
      "metadata": {},
      "execution_count": null,
      "outputs": []
    },
    {
      "cell_type": "markdown",
      "source": "# List of Data Science Languages \n### Python\n### R\n### SQL\n### Julia ",
      "metadata": {}
    },
    {
      "cell_type": "markdown",
      "source": "# List of Data Science Languages \n### Python\n### R\n### SQL\n### Julia ",
      "metadata": {}
    },
    {
      "cell_type": "code",
      "source": "#### List of Data Science Libraries \n##### Numpy\n##### Pandas \n##### Scikit-learn\n##### Tensorflow \n##### Kera",
      "metadata": {},
      "execution_count": null,
      "outputs": []
    },
    {
      "cell_type": "markdown",
      "source": "#### List of Data Science Libraries \n##### Numpy\n##### Pandas \n##### Scikit-learn\n##### Tensorflow \n##### Kera",
      "metadata": {}
    },
    {
      "cell_type": "markdown",
      "source": "#### List of Data Science Libraries \n##### Numpy\n##### Pandas \n##### Scikit-learn\n##### Tensorflow \n##### Kera",
      "metadata": {}
    },
    {
      "cell_type": "code",
      "source": "| No.  | DataScience Tasks  |              Tools              |  No.    |  Data Science Tasks support     |      Tools       |\n|:----:| :---------------:  | :-----------------------------: | :-----: | :-----------------------------: | :--------------: |\n| 1.   | Data Management    |    MySQL,Apachespark,Hadoop     |   1.    |  Code Asset Management          |   Git,GitHub     | \n|      |                    |                                 |         |                                 |                  |\n| 2.   | Data Integration   |          Apache Airflow,        |   2.    |  Development Environments       |    Jupyter       |\n|      | and Transformation |            Apache Kafka         |         |                                 |    Notebooks     |\n|      |                    |                                 |         |                                 |     RStudio      |\n| 3.   | Data Visualization |      Cognos Analytics,Tableau   |         |                                 |                  |  \n    \n",
      "metadata": {},
      "execution_count": null,
      "outputs": []
    },
    {
      "cell_type": "markdown",
      "source": "| No.  | DataScience Tasks  |              Tools              |  No.    |  Data Science Tasks support     |      Tools       |\n|:----:| :---------------:  | :-----------------------------: | :-----: | :-----------------------------: | :--------------: |\n| 1.   | Data Management    |    MySQL,Apachespark,Hadoop     |   1.    |  Code Asset Management          |   Git,GitHub     | \n|      |                    |                                 |         |                                 |                  |\n| 2.   | Data Integration   |          Apache Airflow,        |   2.    |  Development Environments       |    Jupyter       |\n|      | and Transformation |            Apache Kafka         |         |                                 |    Notebooks     |\n|      |                    |                                 |         |                                 |     RStudio      |\n| 3.   | Data Visualization |      Cognos Analytics,Tableau   |         |                                 |                  |  ",
      "metadata": {}
    },
    {
      "cell_type": "code",
      "source": "1. **Addition:**\nExample: 5 + 5 = 10\n",
      "metadata": {},
      "execution_count": null,
      "outputs": []
    },
    {
      "cell_type": "markdown",
      "source": "1. **Addition:**\nExample: 5 + 5 = 10\n",
      "metadata": {}
    },
    {
      "cell_type": "code",
      "source": "2. **Subtraction:**\nExample: 5 - 4 = 1",
      "metadata": {},
      "execution_count": null,
      "outputs": []
    },
    {
      "cell_type": "markdown",
      "source": "2. **Subtraction:**\nExample: 5 - 4 = 1",
      "metadata": {}
    },
    {
      "cell_type": "code",
      "source": "3. **Multiplication:**\n   Example: 2 * 8 = 16",
      "metadata": {},
      "execution_count": null,
      "outputs": []
    },
    {
      "cell_type": "markdown",
      "source": "3. **Multiplication:**\n   Example: 2 * 8 = 16",
      "metadata": {}
    },
    {
      "cell_type": "code",
      "source": "4. **Division:**\nExampleE: 10 / 5 = 2",
      "metadata": {},
      "execution_count": null,
      "outputs": []
    },
    {
      "cell_type": "markdown",
      "source": "4. **Division:**\nExample: 10 / 5 = 2",
      "metadata": {}
    },
    {
      "cell_type": "code",
      "source": "#Create a code cell to multiply and add numbers",
      "metadata": {
        "trusted": true
      },
      "execution_count": 5,
      "outputs": []
    },
    {
      "cell_type": "code",
      "source": "(10*5)+2",
      "metadata": {
        "trusted": true
      },
      "execution_count": 6,
      "outputs": [
        {
          "execution_count": 6,
          "output_type": "execute_result",
          "data": {
            "text/plain": "52"
          },
          "metadata": {}
        }
      ]
    },
    {
      "cell_type": "code",
      "source": "# Create a code cell to convert minutes to hours\n# Given: 60 minutes is equal to 1 hour\nminutes = 60\nconversion_factor = 1 / 60  # Conversion factor: 1 hour = 60 minutes\nhours = minutes * conversion_factor  \n\nprint(\"Given relationship:\")\nprint(\"60 minutes =\", 1, \"hour\\n\")\n\nprint(\"Conversion from minutes to hours:\")\nprint(f\"{minutes} minutes is equal to {hours:.1f} hours using the formula: (minutes * 1) / 60\")\n\n#Example\nminutes = 120\nhours = (minutes * 1) / 60\nprint(f\"{minutes} minutes is equal to {hours:.2f} hours\")\n",
      "metadata": {
        "trusted": true
      },
      "execution_count": 1,
      "outputs": [
        {
          "name": "stdout",
          "text": "Given relationship:\n60 minutes = 1 hour\n\nConversion from minutes to hours:\n60 minutes is equal to 1.0 hours using the formula: (minutes * 1) / 60\n120 minutes is equal to 2.00 hours\n",
          "output_type": "stream"
        }
      ]
    },
    {
      "cell_type": "markdown",
      "source": "# Introduction to My Notebook\n## Objectives\n### 1. Title of the Notebook\n### 2. Introduction\n### 3. Data Science Languages\n### 4. Data Science Libraries\n### 5. Data Science Tools Table\n### 6. Arithmetic Expression \n### 7. Code Cell: Multiply and Add Numbers\n### 8. Create a code cell to convert minutes to hours",
      "metadata": {}
    },
    {
      "cell_type": "markdown",
      "source": "# Introduction to My Notebook\n## Objectives\n### 1. Title of the Notebook\n### 2. Introduction\n### 3. Data Science Languages\n### 4. Data Science Libraries\n### 5. Data Science Tools Table\n### 6. Arithmetic Expression \n### 7. Code Cell: Multiply and Add Numbers\n### 8. Create a code cell to convert minutes to hours",
      "metadata": {}
    },
    {
      "cell_type": "markdown",
      "source": "# Author \n## Pekky",
      "metadata": {}
    },
    {
      "cell_type": "markdown",
      "source": "# Author \n## Pekky",
      "metadata": {}
    },
    {
      "cell_type": "code",
      "source": "",
      "metadata": {},
      "execution_count": null,
      "outputs": []
    }
  ]
}